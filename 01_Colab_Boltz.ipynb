{
  "nbformat": 4,
  "nbformat_minor": 0,
  "metadata": {
    "colab": {
      "provenance": [],
      "include_colab_link": true
    },
    "kernelspec": {
      "name": "python3",
      "display_name": "Python 3"
    },
    "language_info": {
      "name": "python"
    }
  },
  "cells": [
    {
      "cell_type": "markdown",
      "metadata": {
        "id": "view-in-github",
        "colab_type": "text"
      },
      "source": [
        "<a href=\"https://colab.research.google.com/github/ChenSTeam/Colab_Computation/blob/main/01_Colab_Boltz.ipynb\" target=\"_parent\"><img src=\"https://colab.research.google.com/assets/colab-badge.svg\" alt=\"Open In Colab\"/></a>"
      ]
    },
    {
      "cell_type": "code",
      "execution_count": null,
      "metadata": {
        "id": "K5PhNtqSulfe"
      },
      "outputs": [],
      "source": [
        "pip install boltz[cuda] -U\n",
        "\n"
      ]
    },
    {
      "cell_type": "code",
      "source": [
        "git clone https://github.com/jwohlwend/boltz.git\n",
        "cd boltz; pip install -e .[cuda]"
      ],
      "metadata": {
        "id": "kTOiGxpZzB-R"
      },
      "execution_count": null,
      "outputs": []
    },
    {
      "cell_type": "code",
      "source": [],
      "metadata": {
        "id": "fU88qEzUzB79"
      },
      "execution_count": null,
      "outputs": []
    }
  ]
}